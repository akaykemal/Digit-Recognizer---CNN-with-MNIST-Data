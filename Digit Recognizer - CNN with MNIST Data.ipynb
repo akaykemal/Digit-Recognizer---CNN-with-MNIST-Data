{
 "cells": [
  {
   "cell_type": "markdown",
   "metadata": {},
   "source": [
    "# Digit Recognizer - CNN with MNIST Data\n",
    "## Trying to correctly identify digits from a dataset of tens of thousands of handwritten images\n",
    "\n",
    "This dataset contains more than 40k gray-scale images of hand-drawn digits, from zero through nine. Each image has a shape of 28x28 pixels, for a total of 784 pixels.<br>\n",
    "After Processing the data and getting the images ready for our model we will use a CNN Image Classification model to try to recognize the digits.<br>\n",
    "\n",
    "For more information about the dataset use the following Kaggle link:<br>\n",
    "https://www.kaggle.com/competitions/digit-recognizer/overview"
   ]
  },
  {
   "attachments": {
    "digits.png": {
     "image/png": "[encoded data removed]"
    }
   },
   "cell_type": "markdown",
   "metadata": {},
   "source": [
    "![digits.png](attachment:digits.png)"
   ]
  },
  {
   "cell_type": "markdown",
   "metadata": {},
   "source": [
    "## Import Libraries and Load Data"
   ]
  },
  {
   "cell_type": "code",
   "execution_count": 1,
   "metadata": {
    "_cell_guid": "b1076dfc-b9ad-4769-8c92-a6c4dae69d19",
    "_uuid": "8f2839f25d086af736a60e9eeb907d3b93b6e0e5",
    "execution": {
     "iopub.execute_input": "2022-12-20T18:46:02.784935Z",
     "iopub.status.busy": "2022-12-20T18:46:02.784361Z",
     "iopub.status.idle": "2022-12-20T18:46:03.654553Z",
     "shell.execute_reply": "2022-12-20T18:46:03.653470Z",
     "shell.execute_reply.started": "2022-12-20T18:46:02.784817Z"
    }
   },
   "outputs": [
    {
     "name": "stdout",
     "output_type": "stream",
     "text": [
      "/kaggle/input/digit-recognizer/sample_submission.csv\n",
      "/kaggle/input/digit-recognizer/train.csv\n",
      "/kaggle/input/digit-recognizer/test.csv\n"
     ]
    }
   ],
   "source": [
    "# import libraries\n",
    "import numpy as np\n",
    "import pandas as pd\n",
    "import seaborn as sns\n",
    "import matplotlib.pyplot as plt\n",
    "import warnings\n",
    "warnings.filterwarnings(\"ignore\")\n",
    "\n",
    "import os\n",
    "for dirname, _, filenames in os.walk('/kaggle/input'):\n",
    "    for filename in filenames:\n",
    "        print(os.path.join(dirname, filename)) # file path"
   ]
  },
  {
   "cell_type": "code",
   "execution_count": 2,
   "metadata": {
    "execution": {
     "iopub.execute_input": "2022-12-20T18:46:03.657652Z",
     "iopub.status.busy": "2022-12-20T18:46:03.656880Z",
     "iopub.status.idle": "2022-12-20T18:46:07.349039Z",
     "shell.execute_reply": "2022-12-20T18:46:07.347930Z",
     "shell.execute_reply.started": "2022-12-20T18:46:03.657601Z"
    }
   },
   "outputs": [
    {
     "data": {
      "text/html": [
       "<div>\n",
       "<style scoped>\n",
       "    .dataframe tbody tr th:only-of-type {\n",
       "        vertical-align: middle;\n",
       "    }\n",
       "\n",
       "    .dataframe tbody tr th {\n",
       "        vertical-align: top;\n",
       "    }\n",
       "\n",
       "    .dataframe thead th {\n",
       "        text-align: right;\n",
       "    }\n",
       "</style>\n",
       "<table border=\"1\" class=\"dataframe\">\n",
       "  <thead>\n",
       "    <tr style=\"text-align: right;\">\n",
       "      <th></th>\n",
       "      <th>label</th>\n",
       "      <th>pixel0</th>\n",
       "      <th>pixel1</th>\n",
       "      <th>pixel2</th>\n",
       "      <th>pixel3</th>\n",
       "      <th>pixel4</th>\n",
       "      <th>pixel5</th>\n",
       "      <th>pixel6</th>\n",
       "      <th>pixel7</th>\n",
       "      <th>pixel8</th>\n",
       "      <th>...</th>\n",
       "      <th>pixel774</th>\n",
       "      <th>pixel775</th>\n",
       "      <th>pixel776</th>\n",
       "      <th>pixel777</th>\n",
       "      <th>pixel778</th>\n",
       "      <th>pixel779</th>\n",
       "      <th>pixel780</th>\n",
       "      <th>pixel781</th>\n",
       "      <th>pixel782</th>\n",
       "      <th>pixel783</th>\n",
       "    </tr>\n",
       "  </thead>\n",
       "  <tbody>\n",
       "    <tr>\n",
       "      <th>0</th>\n",
       "      <td>1</td>\n",
       "      <td>0</td>\n",
       "      <td>0</td>\n",
       "      <td>0</td>\n",
       "      <td>0</td>\n",
       "      <td>0</td>\n",
       "      <td>0</td>\n",
       "      <td>0</td>\n",
       "      <td>0</td>\n",
       "      <td>0</td>\n",
       "      <td>...</td>\n",
       "      <td>0</td>\n",
       "      <td>0</td>\n",
       "      <td>0</td>\n",
       "      <td>0</td>\n",
       "      <td>0</td>\n",
       "      <td>0</td>\n",
       "      <td>0</td>\n",
       "      <td>0</td>\n",
       "      <td>0</td>\n",
       "      <td>0</td>\n",
       "    </tr>\n",
       "    <tr>\n",
       "      <th>1</th>\n",
       "      <td>0</td>\n",
       "      <td>0</td>\n",
       "      <td>0</td>\n",
       "      <td>0</td>\n",
       "      <td>0</td>\n",
       "      <td>0</td>\n",
       "      <td>0</td>\n",
       "      <td>0</td>\n",
       "      <td>0</td>\n",
       "      <td>0</td>\n",
       "      <td>...</td>\n",
       "      <td>0</td>\n",
       "      <td>0</td>\n",
       "      <td>0</td>\n",
       "      <td>0</td>\n",
       "      <td>0</td>\n",
       "      <td>0</td>\n",
       "      <td>0</td>\n",
       "      <td>0</td>\n",
       "      <td>0</td>\n",
       "      <td>0</td>\n",
       "    </tr>\n",
       "    <tr>\n",
       "      <th>2</th>\n",
       "      <td>1</td>\n",
       "      <td>0</td>\n",
       "      <td>0</td>\n",
       "      <td>0</td>\n",
       "      <td>0</td>\n",
       "      <td>0</td>\n",
       "      <td>0</td>\n",
       "      <td>0</td>\n",
       "      <td>0</td>\n",
       "      <td>0</td>\n",
       "      <td>...</td>\n",
       "      <td>0</td>\n",
       "      <td>0</td>\n",
       "      <td>0</td>\n",
       "      <td>0</td>\n",
       "      <td>0</td>\n",
       "      <td>0</td>\n",
       "      <td>0</td>\n",
       "      <td>0</td>\n",
       "      <td>0</td>\n",
       "      <td>0</td>\n",
       "    </tr>\n",
       "    <tr>\n",
       "      <th>3</th>\n",
       "      <td>4</td>\n",
       "      <td>0</td>\n",
       "      <td>0</td>\n",
       "      <td>0</td>\n",
       "      <td>0</td>\n",
       "      <td>0</td>\n",
       "      <td>0</td>\n",
       "      <td>0</td>\n",
       "      <td>0</td>\n",
       "      <td>0</td>\n",
       "      <td>...</td>\n",
       "      <td>0</td>\n",
       "      <td>0</td>\n",
       "      <td>0</td>\n",
       "      <td>0</td>\n",
       "      <td>0</td>\n",
       "      <td>0</td>\n",
       "      <td>0</td>\n",
       "      <td>0</td>\n",
       "      <td>0</td>\n",
       "      <td>0</td>\n",
       "    </tr>\n",
       "    <tr>\n",
       "      <th>4</th>\n",
       "      <td>0</td>\n",
       "      <td>0</td>\n",
       "      <td>0</td>\n",
       "      <td>0</td>\n",
       "      <td>0</td>\n",
       "      <td>0</td>\n",
       "      <td>0</td>\n",
       "      <td>0</td>\n",
       "      <td>0</td>\n",
       "      <td>0</td>\n",
       "      <td>...</td>\n",
       "      <td>0</td>\n",
       "      <td>0</td>\n",
       "      <td>0</td>\n",
       "      <td>0</td>\n",
       "      <td>0</td>\n",
       "      <td>0</td>\n",
       "      <td>0</td>\n",
       "      <td>0</td>\n",
       "      <td>0</td>\n",
       "      <td>0</td>\n",
       "    </tr>\n",
       "  </tbody>\n",
       "</table>\n",
       "<p>5 rows × 785 columns</p>\n",
       "</div>"
      ],
      "text/plain": [
       "   label  pixel0  pixel1  pixel2  pixel3  pixel4  pixel5  pixel6  pixel7  \\\n",
       "0      1       0       0       0       0       0       0       0       0   \n",
       "1      0       0       0       0       0       0       0       0       0   \n",
       "2      1       0       0       0       0       0       0       0       0   \n",
       "3      4       0       0       0       0       0       0       0       0   \n",
       "4      0       0       0       0       0       0       0       0       0   \n",
       "\n",
       "   pixel8  ...  pixel774  pixel775  pixel776  pixel777  pixel778  pixel779  \\\n",
       "0       0  ...         0         0         0         0         0         0   \n",
       "1       0  ...         0         0         0         0         0         0   \n",
       "2       0  ...         0         0         0         0         0         0   \n",
       "3       0  ...         0         0         0         0         0         0   \n",
       "4       0  ...         0         0         0         0         0         0   \n",
       "\n",
       "   pixel780  pixel781  pixel782  pixel783  \n",
       "0         0         0         0         0  \n",
       "1         0         0         0         0  \n",
       "2         0         0         0         0  \n",
       "3         0         0         0         0  \n",
       "4         0         0         0         0  \n",
       "\n",
       "[5 rows x 785 columns]"
      ]
     },
     "execution_count": 2,
     "metadata": {},
     "output_type": "execute_result"
    }
   ],
   "source": [
    "# loading train data\n",
    "df=pd.read_csv('/kaggle/input/digit-recognizer/train.csv')\n",
    "df.head()"
   ]
  },
  {
   "cell_type": "markdown",
   "metadata": {},
   "source": [
    "## Data Processing"
   ]
  },
  {
   "cell_type": "code",
   "execution_count": 3,
   "metadata": {
    "execution": {
     "iopub.execute_input": "2022-12-20T18:46:07.350956Z",
     "iopub.status.busy": "2022-12-20T18:46:07.350510Z",
     "iopub.status.idle": "2022-12-20T18:46:07.443370Z",
     "shell.execute_reply": "2022-12-20T18:46:07.442332Z",
     "shell.execute_reply.started": "2022-12-20T18:46:07.350919Z"
    }
   },
   "outputs": [
    {
     "data": {
      "text/plain": [
       "((42000, 784), (42000,))"
      ]
     },
     "execution_count": 3,
     "metadata": {},
     "output_type": "execute_result"
    }
   ],
   "source": [
    "# Split Labels and Images\n",
    "train_images, train_labels = df.drop(columns='label'), df.label\n",
    "train_images.shape, train_labels.shape"
   ]
  },
  {
   "cell_type": "code",
   "execution_count": 4,
   "metadata": {
    "execution": {
     "iopub.execute_input": "2022-12-20T18:46:07.446791Z",
     "iopub.status.busy": "2022-12-20T18:46:07.446172Z",
     "iopub.status.idle": "2022-12-20T18:46:07.456040Z",
     "shell.execute_reply": "2022-12-20T18:46:07.454943Z",
     "shell.execute_reply.started": "2022-12-20T18:46:07.446753Z"
    }
   },
   "outputs": [
    {
     "name": "stdout",
     "output_type": "stream",
     "text": [
      "Num of Classes: 10\n"
     ]
    }
   ],
   "source": [
    "# see the num of classes\n",
    "print(\"Num of Classes:\", train_labels.nunique())"
   ]
  },
  {
   "cell_type": "code",
   "execution_count": 5,
   "metadata": {
    "_kg_hide-input": true,
    "execution": {
     "iopub.execute_input": "2022-12-20T18:46:07.458142Z",
     "iopub.status.busy": "2022-12-20T18:46:07.457738Z",
     "iopub.status.idle": "2022-12-20T18:46:07.569210Z",
     "shell.execute_reply": "2022-12-20T18:46:07.568141Z",
     "shell.execute_reply.started": "2022-12-20T18:46:07.458107Z"
    }
   },
   "outputs": [],
   "source": [
    "# form into array and reshape\n",
    "train_images=np.array(train_images,dtype='float32').reshape((42000, 28, 28, 1))\n",
    "train_labels=np.array(train_labels,dtype='float32')"
   ]
  },
  {
   "cell_type": "code",
   "execution_count": 6,
   "metadata": {
    "execution": {
     "iopub.execute_input": "2022-12-20T18:46:07.571072Z",
     "iopub.status.busy": "2022-12-20T18:46:07.570712Z",
     "iopub.status.idle": "2022-12-20T18:46:07.587046Z",
     "shell.execute_reply": "2022-12-20T18:46:07.586053Z",
     "shell.execute_reply.started": "2022-12-20T18:46:07.571034Z"
    }
   },
   "outputs": [
    {
     "name": "stdout",
     "output_type": "stream",
     "text": [
      "(42000, 10)\n"
     ]
    }
   ],
   "source": [
    "# One-hot Encoding\n",
    "train_labels=pd.get_dummies(train_labels)\n",
    "print(train_labels.shape)"
   ]
  },
  {
   "cell_type": "markdown",
   "metadata": {},
   "source": [
    "### Split into train and val data"
   ]
  },
  {
   "cell_type": "code",
   "execution_count": 7,
   "metadata": {
    "execution": {
     "iopub.execute_input": "2022-12-20T18:46:07.589642Z",
     "iopub.status.busy": "2022-12-20T18:46:07.588764Z",
     "iopub.status.idle": "2022-12-20T18:46:08.060565Z",
     "shell.execute_reply": "2022-12-20T18:46:08.059460Z",
     "shell.execute_reply.started": "2022-12-20T18:46:07.589603Z"
    }
   },
   "outputs": [
    {
     "data": {
      "text/plain": [
       "((37800, 28, 28, 1), (37800, 10), (4200, 28, 28, 1), (4200, 10))"
      ]
     },
     "execution_count": 7,
     "metadata": {},
     "output_type": "execute_result"
    }
   ],
   "source": [
    "from sklearn.model_selection import train_test_split\n",
    "x_train, x_val, y_train, y_val = train_test_split(train_images, train_labels, test_size=0.1, random_state=15)\n",
    "x_train.shape,y_train.shape, x_val.shape, y_val.shape"
   ]
  },
  {
   "cell_type": "markdown",
   "metadata": {},
   "source": [
    "### Normalize Data"
   ]
  },
  {
   "cell_type": "code",
   "execution_count": 8,
   "metadata": {
    "execution": {
     "iopub.execute_input": "2022-12-20T18:46:08.062843Z",
     "iopub.status.busy": "2022-12-20T18:46:08.061913Z",
     "iopub.status.idle": "2022-12-20T18:46:08.110478Z",
     "shell.execute_reply": "2022-12-20T18:46:08.109284Z",
     "shell.execute_reply.started": "2022-12-20T18:46:08.062811Z"
    }
   },
   "outputs": [],
   "source": [
    "train_images=train_images/255.0\n",
    "train_labels=train_labels/255.0"
   ]
  },
  {
   "cell_type": "markdown",
   "metadata": {},
   "source": [
    "## Show Image Examples"
   ]
  },
  {
   "cell_type": "code",
   "execution_count": 9,
   "metadata": {
    "execution": {
     "iopub.execute_input": "2022-12-20T18:46:08.113267Z",
     "iopub.status.busy": "2022-12-20T18:46:08.112364Z",
     "iopub.status.idle": "2022-12-20T18:46:08.767027Z",
     "shell.execute_reply": "2022-12-20T18:46:08.766105Z",
     "shell.execute_reply.started": "2022-12-20T18:46:08.113222Z"
    }
   },
   "outputs": [
    {
     "data": {
      "image/png": "[encoded data removed]",
      "text/plain": [
       "<Figure size 432x288 with 5 Axes>"
      ]
     },
     "metadata": {
      "needs_background": "light"
     },
     "output_type": "display_data"
    }
   ],
   "source": [
    "for i in range(5): # show first 5 digit images\n",
    "    plt.subplot(1, 5, i+1)\n",
    "    plt.imshow(x_train[i],cmap='gray')\n",
    "    plt.title('Digit: {i}'.format(i=i))\n",
    "    plt.tight_layout()\n",
    "plt.show()"
   ]
  },
  {
   "cell_type": "markdown",
   "metadata": {},
   "source": [
    "## Modeling - Convolutional Neural Netwroks - CNN"
   ]
  },
  {
   "cell_type": "code",
   "execution_count": 10,
   "metadata": {
    "execution": {
     "iopub.execute_input": "2022-12-20T18:46:08.771046Z",
     "iopub.status.busy": "2022-12-20T18:46:08.770747Z",
     "iopub.status.idle": "2022-12-20T18:46:18.296895Z",
     "shell.execute_reply": "2022-12-20T18:46:18.295882Z",
     "shell.execute_reply.started": "2022-12-20T18:46:08.771018Z"
    }
   },
   "outputs": [],
   "source": [
    "# import libraries\n",
    "import tensorflow as tf\n",
    "from tensorflow import keras\n",
    "from tensorflow.keras.models import Sequential\n",
    "from tensorflow.keras.layers import Dense, Conv2D, InputLayer, Reshape, MaxPooling2D, Flatten\n",
    "from keras import models\n",
    "from keras import layers"
   ]
  },
  {
   "cell_type": "code",
   "execution_count": null,
   "metadata": {},
   "outputs": [],
   "source": [
    "# build model\n",
    "model=models.Sequential()\n",
    "model.add(layers.Conv2D(32, (3, 3), activation='relu', input_shape=(28, 28, 1))) \n",
    "model.add(layers.MaxPooling2D((2,2)))\n",
    "model.add(layers.Conv2D(32,(3,3),activation='relu'))\n",
    "model.add(layers.MaxPooling2D((2,2)))\n",
    "model.add(layers.Conv2D(64,(3,3),activation='relu'))\n",
    "model.add(layers.Flatten())\n",
    "model.add(layers.Dense(128,activation='relu'))\n",
    "model.add(layers.Dropout(0.5))\n",
    "model.add(layers.Dense(10,activation='softmax')) # softmax activation for Classification"
   ]
  },
  {
   "cell_type": "code",
   "execution_count": 12,
   "metadata": {
    "execution": {
     "iopub.execute_input": "2022-12-20T18:46:23.681896Z",
     "iopub.status.busy": "2022-12-20T18:46:23.681219Z",
     "iopub.status.idle": "2022-12-20T18:46:23.694763Z",
     "shell.execute_reply": "2022-12-20T18:46:23.693803Z",
     "shell.execute_reply.started": "2022-12-20T18:46:23.681857Z"
    }
   },
   "outputs": [],
   "source": [
    "# compile model with CategoricalCrossentropy and adam optimizer\n",
    "model.compile(loss=keras.losses.CategoricalCrossentropy(),optimizer=\"adam\",metrics=\"accuracy\")"
   ]
  },
  {
   "cell_type": "code",
   "execution_count": 13,
   "metadata": {
    "_kg_hide-output": true,
    "execution": {
     "iopub.execute_input": "2022-12-20T18:46:23.697988Z",
     "iopub.status.busy": "2022-12-20T18:46:23.697207Z",
     "iopub.status.idle": "2022-12-20T18:49:27.722327Z",
     "shell.execute_reply": "2022-12-20T18:49:27.721393Z",
     "shell.execute_reply.started": "2022-12-20T18:46:23.697953Z"
    },
    "scrolled": true
   },
   "outputs": [
    {
     "name": "stderr",
     "output_type": "stream",
     "text": [
      "2022-12-20 18:46:24.017847: I tensorflow/compiler/mlir/mlir_graph_optimization_pass.cc:185] None of the MLIR Optimization Passes are enabled (registered 2)\n"
     ]
    },
    {
     "name": "stdout",
     "output_type": "stream",
     "text": [
      "Epoch 1/30\n"
     ]
    },
    {
     "name": "stderr",
     "output_type": "stream",
     "text": [
      "2022-12-20 18:46:26.250106: I tensorflow/stream_executor/cuda/cuda_dnn.cc:369] Loaded cuDNN version 8005\n"
     ]
    },
    {
     "name": "stdout",
     "output_type": "stream",
     "text": [
      "1182/1182 [==============================] - 18s 5ms/step - loss: 0.5480 - accuracy: 0.8624 - val_loss: 0.1362 - val_accuracy: 0.9645\n",
      "Epoch 2/30\n",
      "1182/1182 [==============================] - 5s 5ms/step - loss: 0.1318 - accuracy: 0.9635 - val_loss: 0.0649 - val_accuracy: 0.9802\n",
      "Epoch 3/30\n",
      "1182/1182 [==============================] - 6s 5ms/step - loss: 0.0974 - accuracy: 0.9728 - val_loss: 0.0687 - val_accuracy: 0.9826\n",
      "Epoch 4/30\n",
      "1182/1182 [==============================] - 5s 5ms/step - loss: 0.0807 - accuracy: 0.9767 - val_loss: 0.0843 - val_accuracy: 0.9788\n",
      "Epoch 5/30\n",
      "1182/1182 [==============================] - 6s 5ms/step - loss: 0.0716 - accuracy: 0.9802 - val_loss: 0.0927 - val_accuracy: 0.9752\n",
      "Epoch 6/30\n",
      "1182/1182 [==============================] - 5s 5ms/step - loss: 0.0598 - accuracy: 0.9833 - val_loss: 0.0718 - val_accuracy: 0.9798\n",
      "Epoch 7/30\n",
      "1182/1182 [==============================] - 6s 5ms/step - loss: 0.0530 - accuracy: 0.9850 - val_loss: 0.0636 - val_accuracy: 0.9838\n",
      "Epoch 8/30\n",
      "1182/1182 [==============================] - 5s 5ms/step - loss: 0.0510 - accuracy: 0.9854 - val_loss: 0.0639 - val_accuracy: 0.9848\n",
      "Epoch 9/30\n",
      "1182/1182 [==============================] - 6s 5ms/step - loss: 0.0462 - accuracy: 0.9868 - val_loss: 0.1021 - val_accuracy: 0.9793\n",
      "Epoch 10/30\n",
      "1182/1182 [==============================] - 5s 4ms/step - loss: 0.0483 - accuracy: 0.9873 - val_loss: 0.0622 - val_accuracy: 0.9824\n",
      "Epoch 11/30\n",
      "1182/1182 [==============================] - 6s 5ms/step - loss: 0.0392 - accuracy: 0.9892 - val_loss: 0.0650 - val_accuracy: 0.9843\n",
      "Epoch 12/30\n",
      "1182/1182 [==============================] - 6s 5ms/step - loss: 0.0380 - accuracy: 0.9893 - val_loss: 0.0760 - val_accuracy: 0.9824\n",
      "Epoch 13/30\n",
      "1182/1182 [==============================] - 6s 5ms/step - loss: 0.0398 - accuracy: 0.9889 - val_loss: 0.0861 - val_accuracy: 0.9802\n",
      "Epoch 14/30\n",
      "1182/1182 [==============================] - 5s 5ms/step - loss: 0.0374 - accuracy: 0.9896 - val_loss: 0.0755 - val_accuracy: 0.9860\n",
      "Epoch 15/30\n",
      "1182/1182 [==============================] - 6s 5ms/step - loss: 0.0359 - accuracy: 0.9911 - val_loss: 0.0802 - val_accuracy: 0.9864\n",
      "Epoch 16/30\n",
      "1182/1182 [==============================] - 6s 5ms/step - loss: 0.0375 - accuracy: 0.9905 - val_loss: 0.0822 - val_accuracy: 0.9862\n",
      "Epoch 17/30\n",
      "1182/1182 [==============================] - 6s 5ms/step - loss: 0.0310 - accuracy: 0.9913 - val_loss: 0.0856 - val_accuracy: 0.9862\n",
      "Epoch 18/30\n",
      "1182/1182 [==============================] - 6s 5ms/step - loss: 0.0322 - accuracy: 0.9916 - val_loss: 0.1119 - val_accuracy: 0.9843\n",
      "Epoch 19/30\n",
      "1182/1182 [==============================] - 7s 6ms/step - loss: 0.0292 - accuracy: 0.9922 - val_loss: 0.0924 - val_accuracy: 0.9864\n",
      "Epoch 20/30\n",
      "1182/1182 [==============================] - 5s 5ms/step - loss: 0.0351 - accuracy: 0.9910 - val_loss: 0.0915 - val_accuracy: 0.9862\n",
      "Epoch 21/30\n",
      "1182/1182 [==============================] - 6s 5ms/step - loss: 0.0290 - accuracy: 0.9923 - val_loss: 0.1004 - val_accuracy: 0.9826\n",
      "Epoch 22/30\n",
      "1182/1182 [==============================] - 6s 5ms/step - loss: 0.0324 - accuracy: 0.9922 - val_loss: 0.0937 - val_accuracy: 0.9864\n",
      "Epoch 23/30\n",
      "1182/1182 [==============================] - 5s 5ms/step - loss: 0.0295 - accuracy: 0.9927 - val_loss: 0.0908 - val_accuracy: 0.9862\n",
      "Epoch 24/30\n",
      "1182/1182 [==============================] - 5s 5ms/step - loss: 0.0285 - accuracy: 0.9931 - val_loss: 0.0885 - val_accuracy: 0.9848\n",
      "Epoch 25/30\n",
      "1182/1182 [==============================] - 5s 5ms/step - loss: 0.0290 - accuracy: 0.9927 - val_loss: 0.1199 - val_accuracy: 0.9855\n",
      "Epoch 26/30\n",
      "1182/1182 [==============================] - 5s 4ms/step - loss: 0.0327 - accuracy: 0.9919 - val_loss: 0.1187 - val_accuracy: 0.9860\n",
      "Epoch 27/30\n",
      "1182/1182 [==============================] - 6s 5ms/step - loss: 0.0290 - accuracy: 0.9932 - val_loss: 0.1393 - val_accuracy: 0.9829\n",
      "Epoch 28/30\n",
      "1182/1182 [==============================] - 6s 5ms/step - loss: 0.0271 - accuracy: 0.9930 - val_loss: 0.1308 - val_accuracy: 0.9836\n",
      "Epoch 29/30\n",
      "1182/1182 [==============================] - 5s 4ms/step - loss: 0.0296 - accuracy: 0.9935 - val_loss: 0.1316 - val_accuracy: 0.9867\n",
      "Epoch 30/30\n",
      "1182/1182 [==============================] - 6s 5ms/step - loss: 0.0328 - accuracy: 0.9926 - val_loss: 0.1181 - val_accuracy: 0.9883\n"
     ]
    },
    {
     "data": {
      "text/plain": [
       "<keras.callbacks.History at 0x7f4328634850>"
      ]
     },
     "execution_count": 13,
     "metadata": {},
     "output_type": "execute_result"
    }
   ],
   "source": [
    "# fit model\n",
    "model.fit(x_train, y_train, validation_data=(x_val, y_val),epochs=30)"
   ]
  },
  {
   "cell_type": "code",
   "execution_count": 14,
   "metadata": {
    "execution": {
     "iopub.execute_input": "2022-12-20T18:49:27.724283Z",
     "iopub.status.busy": "2022-12-20T18:49:27.723912Z",
     "iopub.status.idle": "2022-12-20T18:49:27.732294Z",
     "shell.execute_reply": "2022-12-20T18:49:27.731091Z",
     "shell.execute_reply.started": "2022-12-20T18:49:27.724247Z"
    }
   },
   "outputs": [
    {
     "name": "stdout",
     "output_type": "stream",
     "text": [
      "Model: \"sequential\"\n",
      "_________________________________________________________________\n",
      "Layer (type)                 Output Shape              Param #   \n",
      "=================================================================\n",
      "conv2d (Conv2D)              (None, 26, 26, 32)        320       \n",
      "_________________________________________________________________\n",
      "max_pooling2d (MaxPooling2D) (None, 13, 13, 32)        0         \n",
      "_________________________________________________________________\n",
      "conv2d_1 (Conv2D)            (None, 11, 11, 32)        9248      \n",
      "_________________________________________________________________\n",
      "max_pooling2d_1 (MaxPooling2 (None, 5, 5, 32)          0         \n",
      "_________________________________________________________________\n",
      "conv2d_2 (Conv2D)            (None, 3, 3, 64)          18496     \n",
      "_________________________________________________________________\n",
      "flatten (Flatten)            (None, 576)               0         \n",
      "_________________________________________________________________\n",
      "dense (Dense)                (None, 128)               73856     \n",
      "_________________________________________________________________\n",
      "dropout (Dropout)            (None, 128)               0         \n",
      "_________________________________________________________________\n",
      "dense_1 (Dense)              (None, 10)                1290      \n",
      "=================================================================\n",
      "Total params: 103,210\n",
      "Trainable params: 103,210\n",
      "Non-trainable params: 0\n",
      "_________________________________________________________________\n"
     ]
    }
   ],
   "source": [
    "model.summary() # show summary of model"
   ]
  },
  {
   "cell_type": "code",
   "execution_count": 15,
   "metadata": {
    "execution": {
     "iopub.execute_input": "2022-12-20T18:49:27.734673Z",
     "iopub.status.busy": "2022-12-20T18:49:27.733668Z",
     "iopub.status.idle": "2022-12-20T18:49:28.429456Z",
     "shell.execute_reply": "2022-12-20T18:49:28.428566Z",
     "shell.execute_reply.started": "2022-12-20T18:49:27.734577Z"
    }
   },
   "outputs": [
    {
     "name": "stdout",
     "output_type": "stream",
     "text": [
      "132/132 [==============================] - 0s 3ms/step - loss: 0.1181 - accuracy: 0.9883\n"
     ]
    }
   ],
   "source": [
    "scores=model.evaluate(x_val, y_val)"
   ]
  },
  {
   "cell_type": "code",
   "execution_count": 16,
   "metadata": {
    "execution": {
     "iopub.execute_input": "2022-12-20T18:49:28.433104Z",
     "iopub.status.busy": "2022-12-20T18:49:28.432790Z",
     "iopub.status.idle": "2022-12-20T18:49:28.438348Z",
     "shell.execute_reply": "2022-12-20T18:49:28.437436Z",
     "shell.execute_reply.started": "2022-12-20T18:49:28.433071Z"
    }
   },
   "outputs": [
    {
     "name": "stdout",
     "output_type": "stream",
     "text": [
      "accuracy: 98.83%\n"
     ]
    }
   ],
   "source": [
    "print(\"%s: %.2f%%\" % (model.metrics_names[1],scores[1]*100))"
   ]
  },
  {
   "cell_type": "markdown",
   "metadata": {},
   "source": [
    "We have an **Accuracy of 98.83%** using our CNN model with 30 epochs."
   ]
  },
  {
   "cell_type": "code",
   "execution_count": null,
   "metadata": {},
   "outputs": [],
   "source": []
  }
 ],
 "metadata": {
  "kernelspec": {
   "display_name": "Python 3 (ipykernel)",
   "language": "python",
   "name": "python3"
  },
  "language_info": {
   "codemirror_mode": {
    "name": "ipython",
    "version": 3
   },
   "file_extension": ".py",
   "mimetype": "text/x-python",
   "name": "python",
   "nbconvert_exporter": "python",
   "pygments_lexer": "ipython3",
   "version": "3.9.12"
  }
 },
 "nbformat": 4,
 "nbformat_minor": 4
}
